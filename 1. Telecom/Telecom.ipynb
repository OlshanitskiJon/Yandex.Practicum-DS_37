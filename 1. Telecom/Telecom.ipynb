{
 "cells": [
  {
   "cell_type": "markdown",
   "id": "eeb6adc1",
   "metadata": {},
   "source": [
    "# Классификаиция клиентов телеком компании\n",
    "\n",
    "## Описание проекта\n",
    "\n",
    "Оператор мобильной связи «Мегалайн» выяснил: многие клиенты пользуются архивными тарифами. Они хотят построить систему, способную проанализировать поведение клиентов и предложить пользователям новый тариф: «Смарт» или «Ультра».\n",
    "В вашем распоряжении данные о поведении клиентов, которые уже перешли на эти тарифы (из проекта курса «Статистический анализ данных»). Нужно построить модель для задачи классификации, которая выберет подходящий тариф. Предобработка данных не понадобится — вы её уже сделали.\\\n",
    "Постройте модель с максимально большим значением accuracy. Чтобы сдать проект успешно, нужно довести долю правильных ответов по крайней мере до 0.75. Проверьте *accuracy* на тестовой выборке самостоятельно."
   ]
  },
  {
   "cell_type": "markdown",
   "id": "a122da3b",
   "metadata": {},
   "source": [
    "## Описание данных\n",
    "Каждый объект в наборе данных — это информация о поведении одного пользователя за месяц.\\\n",
    "Известно:\\\n",
    "`сalls` — количество звонков,\\\n",
    "`minutes` — суммарная длительность звонков в минутах,\\\n",
    "`messages` — количество sms-сообщений,\\\n",
    "`mb_used` — израсходованный интернет-трафик в Мб,\\\n",
    "`is_ultra` — каким тарифом пользовался в течение месяца («Ультра» — 1, «Смарт» — 0)."
   ]
  },
  {
   "cell_type": "markdown",
   "id": "d2f106e0",
   "metadata": {},
   "source": [
    "## План проекта\n",
    "1. [Импорт данных и изучение датасета](#import) \n",
    "2. [Разделение исходных данных на обучающую, валидационную и тестовую выборки.](#split)\n",
    "3. [Исследование качества разных моделей, с изменением гиперпараметров](#research)\\\n",
    "    3.1 [Дерево решений](#DecisionTreeClassifier)\\\n",
    "    3.2 [Cлучайный лес](#RandomForestClassifier)\\\n",
    "    3.3 [Логистическая регрессия](#LogisticRegression)\n",
    "4. [Проверка качества модели на тестовой выборке.](#test)\n",
    "5. [Дополнительное задание: проверка модели на вменяемость.](#sanity)\n",
    "6. [Выводы](#concl)"
   ]
  },
  {
   "cell_type": "markdown",
   "id": "ed6bf568",
   "metadata": {},
   "source": [
    "### 1. Импорт данных и изучение датасета <a id='import'></a> "
   ]
  },
  {
   "cell_type": "code",
   "execution_count": 1,
   "id": "69e48107",
   "metadata": {},
   "outputs": [],
   "source": [
    "from sklearn.model_selection import train_test_split\n",
    "from sklearn.tree import DecisionTreeClassifier\n",
    "from sklearn.metrics import accuracy_score\n",
    "from sklearn.metrics import mean_squared_error\n",
    "from sklearn.model_selection import train_test_split\n",
    "from sklearn.linear_model import LogisticRegression\n",
    "from sklearn.dummy import DummyClassifier\n",
    "import numpy as np\n",
    "import pandas as pd"
   ]
  },
  {
   "cell_type": "code",
   "execution_count": 2,
   "id": "0d41a389",
   "metadata": {},
   "outputs": [],
   "source": [
    "try:\n",
    "    df = pd.read_csv('C:/Users/79153/Desktop/ya_projects/sprint_9/users_behavior.csv')\n",
    "except:\n",
    "    df = pd.read_csv('datasets/users_behavior.csv')"
   ]
  },
  {
   "cell_type": "markdown",
   "id": "394f40d0",
   "metadata": {},
   "source": [
    "Просмотрим первые 10 строк датасета, информацию методом info() и describe()"
   ]
  },
  {
   "cell_type": "code",
   "execution_count": 3,
   "id": "5009caad",
   "metadata": {},
   "outputs": [
    {
     "data": {
      "text/html": [
       "<div>\n",
       "<style scoped>\n",
       "    .dataframe tbody tr th:only-of-type {\n",
       "        vertical-align: middle;\n",
       "    }\n",
       "\n",
       "    .dataframe tbody tr th {\n",
       "        vertical-align: top;\n",
       "    }\n",
       "\n",
       "    .dataframe thead th {\n",
       "        text-align: right;\n",
       "    }\n",
       "</style>\n",
       "<table border=\"1\" class=\"dataframe\">\n",
       "  <thead>\n",
       "    <tr style=\"text-align: right;\">\n",
       "      <th></th>\n",
       "      <th>calls</th>\n",
       "      <th>minutes</th>\n",
       "      <th>messages</th>\n",
       "      <th>mb_used</th>\n",
       "      <th>is_ultra</th>\n",
       "    </tr>\n",
       "  </thead>\n",
       "  <tbody>\n",
       "    <tr>\n",
       "      <th>0</th>\n",
       "      <td>40.0</td>\n",
       "      <td>311.90</td>\n",
       "      <td>83.0</td>\n",
       "      <td>19915.42</td>\n",
       "      <td>0</td>\n",
       "    </tr>\n",
       "    <tr>\n",
       "      <th>1</th>\n",
       "      <td>85.0</td>\n",
       "      <td>516.75</td>\n",
       "      <td>56.0</td>\n",
       "      <td>22696.96</td>\n",
       "      <td>0</td>\n",
       "    </tr>\n",
       "    <tr>\n",
       "      <th>2</th>\n",
       "      <td>77.0</td>\n",
       "      <td>467.66</td>\n",
       "      <td>86.0</td>\n",
       "      <td>21060.45</td>\n",
       "      <td>0</td>\n",
       "    </tr>\n",
       "    <tr>\n",
       "      <th>3</th>\n",
       "      <td>106.0</td>\n",
       "      <td>745.53</td>\n",
       "      <td>81.0</td>\n",
       "      <td>8437.39</td>\n",
       "      <td>1</td>\n",
       "    </tr>\n",
       "    <tr>\n",
       "      <th>4</th>\n",
       "      <td>66.0</td>\n",
       "      <td>418.74</td>\n",
       "      <td>1.0</td>\n",
       "      <td>14502.75</td>\n",
       "      <td>0</td>\n",
       "    </tr>\n",
       "    <tr>\n",
       "      <th>5</th>\n",
       "      <td>58.0</td>\n",
       "      <td>344.56</td>\n",
       "      <td>21.0</td>\n",
       "      <td>15823.37</td>\n",
       "      <td>0</td>\n",
       "    </tr>\n",
       "    <tr>\n",
       "      <th>6</th>\n",
       "      <td>57.0</td>\n",
       "      <td>431.64</td>\n",
       "      <td>20.0</td>\n",
       "      <td>3738.90</td>\n",
       "      <td>1</td>\n",
       "    </tr>\n",
       "    <tr>\n",
       "      <th>7</th>\n",
       "      <td>15.0</td>\n",
       "      <td>132.40</td>\n",
       "      <td>6.0</td>\n",
       "      <td>21911.60</td>\n",
       "      <td>0</td>\n",
       "    </tr>\n",
       "    <tr>\n",
       "      <th>8</th>\n",
       "      <td>7.0</td>\n",
       "      <td>43.39</td>\n",
       "      <td>3.0</td>\n",
       "      <td>2538.67</td>\n",
       "      <td>1</td>\n",
       "    </tr>\n",
       "    <tr>\n",
       "      <th>9</th>\n",
       "      <td>90.0</td>\n",
       "      <td>665.41</td>\n",
       "      <td>38.0</td>\n",
       "      <td>17358.61</td>\n",
       "      <td>0</td>\n",
       "    </tr>\n",
       "  </tbody>\n",
       "</table>\n",
       "</div>"
      ],
      "text/plain": [
       "   calls  minutes  messages   mb_used  is_ultra\n",
       "0   40.0   311.90      83.0  19915.42         0\n",
       "1   85.0   516.75      56.0  22696.96         0\n",
       "2   77.0   467.66      86.0  21060.45         0\n",
       "3  106.0   745.53      81.0   8437.39         1\n",
       "4   66.0   418.74       1.0  14502.75         0\n",
       "5   58.0   344.56      21.0  15823.37         0\n",
       "6   57.0   431.64      20.0   3738.90         1\n",
       "7   15.0   132.40       6.0  21911.60         0\n",
       "8    7.0    43.39       3.0   2538.67         1\n",
       "9   90.0   665.41      38.0  17358.61         0"
      ]
     },
     "execution_count": 3,
     "metadata": {},
     "output_type": "execute_result"
    }
   ],
   "source": [
    "df.head(10)"
   ]
  },
  {
   "cell_type": "code",
   "execution_count": 4,
   "id": "71f7ae94",
   "metadata": {},
   "outputs": [
    {
     "name": "stdout",
     "output_type": "stream",
     "text": [
      "<class 'pandas.core.frame.DataFrame'>\n",
      "RangeIndex: 3214 entries, 0 to 3213\n",
      "Data columns (total 5 columns):\n",
      " #   Column    Non-Null Count  Dtype  \n",
      "---  ------    --------------  -----  \n",
      " 0   calls     3214 non-null   float64\n",
      " 1   minutes   3214 non-null   float64\n",
      " 2   messages  3214 non-null   float64\n",
      " 3   mb_used   3214 non-null   float64\n",
      " 4   is_ultra  3214 non-null   int64  \n",
      "dtypes: float64(4), int64(1)\n",
      "memory usage: 125.7 KB\n"
     ]
    }
   ],
   "source": [
    "df.info()"
   ]
  },
  {
   "cell_type": "code",
   "execution_count": 5,
   "id": "0593e72a",
   "metadata": {},
   "outputs": [
    {
     "data": {
      "text/html": [
       "<div>\n",
       "<style scoped>\n",
       "    .dataframe tbody tr th:only-of-type {\n",
       "        vertical-align: middle;\n",
       "    }\n",
       "\n",
       "    .dataframe tbody tr th {\n",
       "        vertical-align: top;\n",
       "    }\n",
       "\n",
       "    .dataframe thead th {\n",
       "        text-align: right;\n",
       "    }\n",
       "</style>\n",
       "<table border=\"1\" class=\"dataframe\">\n",
       "  <thead>\n",
       "    <tr style=\"text-align: right;\">\n",
       "      <th></th>\n",
       "      <th>calls</th>\n",
       "      <th>minutes</th>\n",
       "      <th>messages</th>\n",
       "      <th>mb_used</th>\n",
       "      <th>is_ultra</th>\n",
       "    </tr>\n",
       "  </thead>\n",
       "  <tbody>\n",
       "    <tr>\n",
       "      <th>count</th>\n",
       "      <td>3214.000000</td>\n",
       "      <td>3214.000000</td>\n",
       "      <td>3214.000000</td>\n",
       "      <td>3214.000000</td>\n",
       "      <td>3214.000000</td>\n",
       "    </tr>\n",
       "    <tr>\n",
       "      <th>mean</th>\n",
       "      <td>63.038892</td>\n",
       "      <td>438.208787</td>\n",
       "      <td>38.281269</td>\n",
       "      <td>17207.673836</td>\n",
       "      <td>0.306472</td>\n",
       "    </tr>\n",
       "    <tr>\n",
       "      <th>std</th>\n",
       "      <td>33.236368</td>\n",
       "      <td>234.569872</td>\n",
       "      <td>36.148326</td>\n",
       "      <td>7570.968246</td>\n",
       "      <td>0.461100</td>\n",
       "    </tr>\n",
       "    <tr>\n",
       "      <th>min</th>\n",
       "      <td>0.000000</td>\n",
       "      <td>0.000000</td>\n",
       "      <td>0.000000</td>\n",
       "      <td>0.000000</td>\n",
       "      <td>0.000000</td>\n",
       "    </tr>\n",
       "    <tr>\n",
       "      <th>25%</th>\n",
       "      <td>40.000000</td>\n",
       "      <td>274.575000</td>\n",
       "      <td>9.000000</td>\n",
       "      <td>12491.902500</td>\n",
       "      <td>0.000000</td>\n",
       "    </tr>\n",
       "    <tr>\n",
       "      <th>50%</th>\n",
       "      <td>62.000000</td>\n",
       "      <td>430.600000</td>\n",
       "      <td>30.000000</td>\n",
       "      <td>16943.235000</td>\n",
       "      <td>0.000000</td>\n",
       "    </tr>\n",
       "    <tr>\n",
       "      <th>75%</th>\n",
       "      <td>82.000000</td>\n",
       "      <td>571.927500</td>\n",
       "      <td>57.000000</td>\n",
       "      <td>21424.700000</td>\n",
       "      <td>1.000000</td>\n",
       "    </tr>\n",
       "    <tr>\n",
       "      <th>max</th>\n",
       "      <td>244.000000</td>\n",
       "      <td>1632.060000</td>\n",
       "      <td>224.000000</td>\n",
       "      <td>49745.730000</td>\n",
       "      <td>1.000000</td>\n",
       "    </tr>\n",
       "  </tbody>\n",
       "</table>\n",
       "</div>"
      ],
      "text/plain": [
       "             calls      minutes     messages       mb_used     is_ultra\n",
       "count  3214.000000  3214.000000  3214.000000   3214.000000  3214.000000\n",
       "mean     63.038892   438.208787    38.281269  17207.673836     0.306472\n",
       "std      33.236368   234.569872    36.148326   7570.968246     0.461100\n",
       "min       0.000000     0.000000     0.000000      0.000000     0.000000\n",
       "25%      40.000000   274.575000     9.000000  12491.902500     0.000000\n",
       "50%      62.000000   430.600000    30.000000  16943.235000     0.000000\n",
       "75%      82.000000   571.927500    57.000000  21424.700000     1.000000\n",
       "max     244.000000  1632.060000   224.000000  49745.730000     1.000000"
      ]
     },
     "execution_count": 5,
     "metadata": {},
     "output_type": "execute_result"
    }
   ],
   "source": [
    "df.describe()"
   ]
  },
  {
   "cell_type": "markdown",
   "id": "af012966",
   "metadata": {},
   "source": [
    "### Вывод по первичному изучению датасета\n",
    "Данные действительно обработанные, можно было бы заменить тип данных на *float32* в соответствующих столбцах, но ввиду малого объема данных такая работа не принесет много пользы, кроме того в условиях задачи написано, что данные обработаны и никаких действий по предобработке не требуют."
   ]
  },
  {
   "cell_type": "markdown",
   "id": "ebe2666e",
   "metadata": {},
   "source": [
    "### 2. Разделение исходных данных на обучающую, валидационную и тестовую выборки. <a id='split'></a>"
   ]
  },
  {
   "cell_type": "code",
   "execution_count": 6,
   "id": "44956398",
   "metadata": {},
   "outputs": [],
   "source": [
    "main_df, df_test = train_test_split(df, test_size=0.20, random_state=12345)               # отбор тестовой выборки\n",
    "df_train, df_valid = train_test_split(main_df, test_size=0.20/0.8, random_state=12345)    # отбор валидационной выборки"
   ]
  },
  {
   "cell_type": "markdown",
   "id": "39ac86e4",
   "metadata": {},
   "source": [
    "В данном случае у нас нет скрытой выборки и было применено разделение в соотношении 3:1:1."
   ]
  },
  {
   "cell_type": "markdown",
   "id": "427adb9f",
   "metadata": {},
   "source": [
    "### 3. Исследование качества разных моделей, с изменением гиперпараметров  <a id='research'></a>"
   ]
  },
  {
   "cell_type": "markdown",
   "id": "ae12e4bb",
   "metadata": {},
   "source": [
    "Объявим переменные с признаками для обучения, валидации и теста "
   ]
  },
  {
   "cell_type": "code",
   "execution_count": 7,
   "id": "725a893d",
   "metadata": {},
   "outputs": [],
   "source": [
    "# переменные с признаком для обучения и целью \n",
    "features_train = df_train.drop(['is_ultra'], axis=1)\n",
    "target_train = df_train['is_ultra']\n",
    "# то же для валидации\n",
    "features_valid = df_valid.drop(['is_ultra'], axis=1)\n",
    "target_valid = df_valid['is_ultra']\n",
    "# то же для теста\n",
    "features_test = df_test.drop(['is_ultra'], axis=1)\n",
    "target_test = df_test['is_ultra']"
   ]
  },
  {
   "cell_type": "code",
   "execution_count": 8,
   "id": "f7f5ca91",
   "metadata": {},
   "outputs": [
    {
     "name": "stdout",
     "output_type": "stream",
     "text": [
      "Размеры выборки для обучения модели: features (1928, 4) target 1928\n",
      "Размеры выборки для валидации модели: features (643, 4) target 643\n",
      "Размеры выборки для теста модели: features (643, 4) target 643\n"
     ]
    }
   ],
   "source": [
    "print('''Размеры выборки для обучения модели: features {} target {}\n",
    "Размеры выборки для валидации модели: features {} target {}\n",
    "Размеры выборки для теста модели: features {} target {}'''.format(features_train.shape, len(target_train),\n",
    "                                               features_valid.shape, len(target_valid),\n",
    "                                               features_test.shape, len(target_test)))"
   ]
  },
  {
   "cell_type": "markdown",
   "id": "d063d399",
   "metadata": {},
   "source": [
    "#### 3.1 Дерево решений <a id='DecisionTreeClassifier'></a>"
   ]
  },
  {
   "cell_type": "code",
   "execution_count": 9,
   "id": "4e6c13aa",
   "metadata": {},
   "outputs": [],
   "source": [
    "best_params = []\n",
    "best_accuracy = 0.5\n",
    "# проход по гиперпараметрам\n",
    "for max_depth in range(2,10):\n",
    "    for min_samples_split in range(2,10):\n",
    "        for min_samples_leaf in range(1,10):\n",
    "            for criterion in ['gini', 'entropy']:\n",
    "                # инициация модели \n",
    "                model = DecisionTreeClassifier(random_state=123,\n",
    "                                               max_depth=max_depth,\n",
    "                                               min_samples_split=min_samples_split,\n",
    "                                               min_samples_leaf=min_samples_leaf,\n",
    "                                               criterion=criterion)\n",
    "                # обучение модели \n",
    "                model.fit(features_train,target_train)\n",
    "                # поиск предсказаний модели на валидационной выбоке\n",
    "                predictions = model.predict(features_valid)\n",
    "                # вычисление точности модели методом accuracy_score\n",
    "                accuracy = accuracy_score(target_valid, predictions)\n",
    "                # сохранение лучшего результата\n",
    "                if best_accuracy < accuracy:\n",
    "                    best_params = [max_depth, min_samples_split, min_samples_leaf, criterion]\n",
    "                    best_accuracy = accuracy"
   ]
  },
  {
   "cell_type": "code",
   "execution_count": 10,
   "id": "0bd6dd4a",
   "metadata": {},
   "outputs": [
    {
     "name": "stdout",
     "output_type": "stream",
     "text": [
      "Наилучший показатель accuracy: 0.7963\n",
      "Параметры модели:\n",
      "   max_depth = 8\n",
      "   min_samples_split = 2\n",
      "   min_samples_leaf = 5\n",
      "   criterion = entropy \n"
     ]
    }
   ],
   "source": [
    "# вывод модели.\n",
    "print('''Наилучший показатель accuracy: {:.4f}\n",
    "Параметры модели:\n",
    "   max_depth = {}\n",
    "   min_samples_split = {}\n",
    "   min_samples_leaf = {}\n",
    "   criterion = {} '''.format(best_accuracy,\n",
    "                             best_params[0],\n",
    "                             best_params[1],\n",
    "                             best_params[2],\n",
    "                             best_params[3],\n",
    "                            ))"
   ]
  },
  {
   "cell_type": "markdown",
   "id": "190fc1b4",
   "metadata": {},
   "source": [
    "#### 3.2 Cлучайный лес <a id='RandomForestClassifier'></a>"
   ]
  },
  {
   "cell_type": "code",
   "execution_count": 11,
   "id": "6f0cac2e",
   "metadata": {},
   "outputs": [],
   "source": [
    "from sklearn.ensemble import RandomForestClassifier\n",
    "best_params = []\n",
    "best_accuracy = 0\n",
    "# проход по гиперпараметрам\n",
    "for n_estimators in (1,10):\n",
    "    for max_depth in range(2,10):\n",
    "        for min_samples_split in range(2,10):\n",
    "            for min_samples_leaf in range(1,8):\n",
    "                for criterion in ['gini', 'entropy']:\n",
    "                    # инициация модели \n",
    "                    model = RandomForestClassifier(random_state=1234,\n",
    "                                                   n_estimators=n_estimators,\n",
    "                                                   max_depth=max_depth,\n",
    "                                                   min_samples_split=min_samples_split,\n",
    "                                                   min_samples_leaf=min_samples_leaf,\n",
    "                                                   criterion=criterion)\n",
    "                    # обучение модели \n",
    "                    model.fit(features_train,target_train)\n",
    "                    # поиск предсказаний модели на валидационной выбоке\n",
    "                    predictions = model.predict(features_valid)\n",
    "                    # вычисление точности модели методом accuracy_score\n",
    "                    accuracy = accuracy_score(target_valid, predictions)\n",
    "                    # сохранение лучшего результата\n",
    "                    if accuracy > best_accuracy:\n",
    "                        best_params_2 = [n_estimators, max_depth, min_samples_split, min_samples_leaf, criterion]\n",
    "                        best_accuracy = accuracy"
   ]
  },
  {
   "cell_type": "code",
   "execution_count": 12,
   "id": "1e2d0fe0",
   "metadata": {},
   "outputs": [
    {
     "name": "stdout",
     "output_type": "stream",
     "text": [
      "Наилучший показатель accuracy: 0.8009\n",
      "Параметры модели:\n",
      "   n_estimators = 10\n",
      "   max_depth = 9\n",
      "   min_samples_split = 7\n",
      "   min_samples_leaf = 1\n",
      "   criterion = entropy \n"
     ]
    }
   ],
   "source": [
    "# вывод наилучшей точности и параметров модели.\n",
    "print('''Наилучший показатель accuracy: {:.4f}\n",
    "Параметры модели:\n",
    "   n_estimators = {}\n",
    "   max_depth = {}\n",
    "   min_samples_split = {}\n",
    "   min_samples_leaf = {}\n",
    "   criterion = {} '''.format(best_accuracy,\n",
    "                             best_params_2[0],\n",
    "                             best_params_2[1],\n",
    "                             best_params_2[2],\n",
    "                             best_params_2[3],\n",
    "                             best_params_2[4]))"
   ]
  },
  {
   "cell_type": "markdown",
   "id": "0b0dc0f2",
   "metadata": {},
   "source": [
    "#### 3.3 Логистическая регрессия <a id='LogisticRegression'></a>"
   ]
  },
  {
   "cell_type": "code",
   "execution_count": 13,
   "id": "d50462e6",
   "metadata": {},
   "outputs": [],
   "source": [
    "# в параметрах best_params и best_accuracy будем хранить наилучшие параметры для модели и наивысшую точность соответственно\n",
    "best_params = []\n",
    "best_accuracy = 0\n",
    "\n",
    "cs = np.linspace(0.01, 10, 1000, endpoint=True)\n",
    "# проход по выбранным гиперпараметрам\n",
    "for C in cs:\n",
    "    # инициация модели \n",
    "    model = LogisticRegression(random_state=12345,\n",
    "                                      C=C,\n",
    "                                      max_iter=1000)\n",
    "    # обучение модели \n",
    "    model.fit(features_train,target_train)\n",
    "    # поиск предсказаний модели на валидационной выбоке\n",
    "    predictions = model.predict(features_valid)\n",
    "    # вычисление точности модели\n",
    "    accuracy = accuracy_score(target_valid, predictions)\n",
    "    # сохранение лучшего результата\n",
    "    if accuracy > best_accuracy:\n",
    "        best_params_3 = [C]\n",
    "        best_accuracy = accuracy"
   ]
  },
  {
   "cell_type": "code",
   "execution_count": 15,
   "id": "122b4395",
   "metadata": {},
   "outputs": [
    {
     "name": "stdout",
     "output_type": "stream",
     "text": [
      "Наилучший показатель accuracy: 0.7278\n",
      "Параметеры модели:\n",
      "   C = 2.94 \n"
     ]
    }
   ],
   "source": [
    "# вывод наилучшей точности и параметров модели.\n",
    "print('''Наилучший показатель accuracy: {:.4f}\n",
    "Параметеры модели:\n",
    "   C = {} '''.format(best_accuracy,\n",
    "                       best_params_3[0]))"
   ]
  },
  {
   "cell_type": "markdown",
   "id": "9af1aa4f",
   "metadata": {},
   "source": [
    "#### Промежуточный вывод\n",
    "Наилучший результат показала модель *RandomForestClassifier* c accuracy = 0.8009. "
   ]
  },
  {
   "cell_type": "markdown",
   "id": "36103c02",
   "metadata": {},
   "source": [
    "### 4. Проверка качества модели на тестовой выборке. <a id='test'></a>"
   ]
  },
  {
   "cell_type": "code",
   "execution_count": 16,
   "id": "782a6795",
   "metadata": {},
   "outputs": [
    {
     "name": "stdout",
     "output_type": "stream",
     "text": [
      "Точность модели на тестовой выборке: 0.7932\n"
     ]
    }
   ],
   "source": [
    "model = RandomForestClassifier(random_state=1234,\n",
    "                               n_estimators=best_params_2[0],\n",
    "                               max_depth=best_params_2[1],\n",
    "                               min_samples_split=best_params_2[2],\n",
    "                               min_samples_leaf=best_params_2[3],\n",
    "                               criterion=best_params_2[4])\n",
    "model.fit(features_train,target_train)\n",
    "predictions = model.predict(features_test)\n",
    "accuracy = accuracy_score(target_test, predictions)\n",
    "print('''Точность модели на тестовой выборке: {:.4f}'''.format(accuracy))"
   ]
  },
  {
   "cell_type": "markdown",
   "id": "f9a0ca9e",
   "metadata": {},
   "source": [
    "Проверку на качество на тестовой выборке модель проходит."
   ]
  },
  {
   "cell_type": "markdown",
   "id": "94f47267",
   "metadata": {},
   "source": [
    "### 5. Дополнительное задание: проверка модели на вменяемость. <a id='sanity'></a>\n",
    "Для проверки вменяемости модели попробуем использовать тестовую выборку с с заменой всех значений тарифов на 1 и 0, а так же проверим точность с помощью DummyClassifier"
   ]
  },
  {
   "cell_type": "code",
   "execution_count": 17,
   "id": "9a277bb7",
   "metadata": {},
   "outputs": [
    {
     "name": "stdout",
     "output_type": "stream",
     "text": [
      "Точность dummy на тестовой выборке: 0.6952\n"
     ]
    }
   ],
   "source": [
    "X = features_test\n",
    "y = target_test\n",
    "dummy_clf = DummyClassifier(strategy=\"most_frequent\")\n",
    "dummy_clf.fit(X, y)\n",
    "DummyClassifier(strategy='most_frequent')\n",
    "print('''Точность dummy на тестовой выборке: {:.4f}'''.format(dummy_clf.score(X, y)))"
   ]
  },
  {
   "cell_type": "code",
   "execution_count": 18,
   "id": "eaf432e1",
   "metadata": {},
   "outputs": [
    {
     "name": "stdout",
     "output_type": "stream",
     "text": [
      "Точность модели на тестовой выборке: 0.7963\n"
     ]
    }
   ],
   "source": [
    "predictions = model.predict(features_test)\n",
    "false_target = []\n",
    "for i in range(len(predictions)):\n",
    "    false_target.append(0)\n",
    "accuracy_2 = accuracy_score(false_target, predictions)\n",
    "print('''Точность модели на тестовой выборке: {:.4f}'''.format(accuracy_2))"
   ]
  },
  {
   "cell_type": "code",
   "execution_count": 19,
   "id": "523517ba",
   "metadata": {},
   "outputs": [
    {
     "name": "stdout",
     "output_type": "stream",
     "text": [
      "Точность модели на тестовой выборке: 0.2037\n"
     ]
    }
   ],
   "source": [
    "predictions = model.predict(features_test)\n",
    "false_target = []\n",
    "for i in range(len(predictions)):\n",
    "    false_target.append(1)\n",
    "accuracy_2 = accuracy_score(false_target, predictions)\n",
    "print('''Точность модели на тестовой выборке: {:.4f}'''.format(accuracy_2))"
   ]
  },
  {
   "cell_type": "markdown",
   "id": "25f16efe",
   "metadata": {},
   "source": [
    "Точность модели выше точности dummy, так же можно отметить некоторое повышение эффективности модели при проверке на фальш целью. Вероятно в затруднительной ситуации модель возвращает наиболее частый результат."
   ]
  },
  {
   "cell_type": "markdown",
   "id": "7a35fc5a",
   "metadata": {},
   "source": [
    "### 6. Выводы <a id='concl'></a>\n",
    "В данном исследовании были рассмотрены модели машинного обучения *DecisionTreeClassifier*, *RandomForestClassifier* и *LogisticRegression*.\n",
    "\n",
    "Наибольшую точность показала модель *RandomForestClassifier*, однако проверку на вменяемость она проходит так как точность выше точности *DummyClassifyer*. \n",
    "\n",
    "Таким образом можно сделать вывод, что при выборе модели обучения следует проводить анализ различных моделей с учетом различных параметров, а так же скорости реализации. Модель *DecisionTreeClassifier* получила результат не намного менее точный чем *RandomForestClassifier*, но при этом скорость работы данной модели намного быстрее."
   ]
  },
  {
   "cell_type": "code",
   "execution_count": null,
   "id": "4c1f25c1",
   "metadata": {},
   "outputs": [],
   "source": []
  }
 ],
 "metadata": {
  "kernelspec": {
   "display_name": "Python 3 (ipykernel)",
   "language": "python",
   "name": "python3"
  },
  "language_info": {
   "codemirror_mode": {
    "name": "ipython",
    "version": 3
   },
   "file_extension": ".py",
   "mimetype": "text/x-python",
   "name": "python",
   "nbconvert_exporter": "python",
   "pygments_lexer": "ipython3",
   "version": "3.9.12"
  },
  "toc": {
   "base_numbering": 1,
   "nav_menu": {},
   "number_sections": true,
   "sideBar": true,
   "skip_h1_title": true,
   "title_cell": "Table of Contents",
   "title_sidebar": "Contents",
   "toc_cell": false,
   "toc_position": {},
   "toc_section_display": true,
   "toc_window_display": false
  }
 },
 "nbformat": 4,
 "nbformat_minor": 5
}
